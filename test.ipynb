{
 "cells": [
  {
   "cell_type": "code",
   "execution_count": 40,
   "metadata": {},
   "outputs": [
    {
     "data": {
      "text/html": [
       "<div>\n",
       "<style scoped>\n",
       "    .dataframe tbody tr th:only-of-type {\n",
       "        vertical-align: middle;\n",
       "    }\n",
       "\n",
       "    .dataframe tbody tr th {\n",
       "        vertical-align: top;\n",
       "    }\n",
       "\n",
       "    .dataframe thead th {\n",
       "        text-align: right;\n",
       "    }\n",
       "</style>\n",
       "<table border=\"1\" class=\"dataframe\">\n",
       "  <thead>\n",
       "    <tr style=\"text-align: right;\">\n",
       "      <th></th>\n",
       "      <th>Player</th>\n",
       "      <th>Week</th>\n",
       "      <th>Role</th>\n",
       "      <th>Team</th>\n",
       "      <th>K</th>\n",
       "      <th>D</th>\n",
       "      <th>U</th>\n",
       "      <th>FK</th>\n",
       "      <th>FD</th>\n",
       "      <th>Ress</th>\n",
       "      <th>Points</th>\n",
       "      <th>Pts/10</th>\n",
       "    </tr>\n",
       "  </thead>\n",
       "  <tbody>\n",
       "    <tr>\n",
       "      <th>0</th>\n",
       "      <td>Seagull</td>\n",
       "      <td>1</td>\n",
       "      <td>Tank</td>\n",
       "      <td>Dallas Fuel</td>\n",
       "      <td>53</td>\n",
       "      <td>39</td>\n",
       "      <td>21</td>\n",
       "      <td>6</td>\n",
       "      <td>8</td>\n",
       "      <td>0</td>\n",
       "      <td>90</td>\n",
       "      <td>17.85</td>\n",
       "    </tr>\n",
       "    <tr>\n",
       "      <th>1</th>\n",
       "      <td>TviQ</td>\n",
       "      <td>1</td>\n",
       "      <td>Offense</td>\n",
       "      <td>Florida Mayhem</td>\n",
       "      <td>76</td>\n",
       "      <td>84</td>\n",
       "      <td>31</td>\n",
       "      <td>17</td>\n",
       "      <td>14</td>\n",
       "      <td>0</td>\n",
       "      <td>122</td>\n",
       "      <td>13.54</td>\n",
       "    </tr>\n",
       "    <tr>\n",
       "      <th>2</th>\n",
       "      <td>uNKOE</td>\n",
       "      <td>1</td>\n",
       "      <td>Support</td>\n",
       "      <td>Los Angeles Valiant</td>\n",
       "      <td>40</td>\n",
       "      <td>76</td>\n",
       "      <td>45</td>\n",
       "      <td>5</td>\n",
       "      <td>10</td>\n",
       "      <td>0</td>\n",
       "      <td>44</td>\n",
       "      <td>3.68</td>\n",
       "    </tr>\n",
       "    <tr>\n",
       "      <th>3</th>\n",
       "      <td>Taimou</td>\n",
       "      <td>1</td>\n",
       "      <td>Offense</td>\n",
       "      <td>Dallas Fuel</td>\n",
       "      <td>114</td>\n",
       "      <td>80</td>\n",
       "      <td>52</td>\n",
       "      <td>15</td>\n",
       "      <td>12</td>\n",
       "      <td>0</td>\n",
       "      <td>221</td>\n",
       "      <td>18.73</td>\n",
       "    </tr>\n",
       "    <tr>\n",
       "      <th>4</th>\n",
       "      <td>chipshajen</td>\n",
       "      <td>1</td>\n",
       "      <td>Support</td>\n",
       "      <td>Dallas Fuel</td>\n",
       "      <td>2</td>\n",
       "      <td>48</td>\n",
       "      <td>23</td>\n",
       "      <td>0</td>\n",
       "      <td>6</td>\n",
       "      <td>0</td>\n",
       "      <td>-33</td>\n",
       "      <td>-5.25</td>\n",
       "    </tr>\n",
       "  </tbody>\n",
       "</table>\n",
       "</div>"
      ],
      "text/plain": [
       "       Player  Week     Role                 Team    K   D   U  FK  FD  Ress  \\\n",
       "0     Seagull     1     Tank          Dallas Fuel   53  39  21   6   8     0   \n",
       "1        TviQ     1  Offense       Florida Mayhem   76  84  31  17  14     0   \n",
       "2       uNKOE     1  Support  Los Angeles Valiant   40  76  45   5  10     0   \n",
       "3      Taimou     1  Offense          Dallas Fuel  114  80  52  15  12     0   \n",
       "4  chipshajen     1  Support          Dallas Fuel    2  48  23   0   6     0   \n",
       "\n",
       "   Points  Pts/10  \n",
       "0      90   17.85  \n",
       "1     122   13.54  \n",
       "2      44    3.68  \n",
       "3     221   18.73  \n",
       "4     -33   -5.25  "
      ]
     },
     "execution_count": 40,
     "metadata": {},
     "output_type": "execute_result"
    }
   ],
   "source": [
    "import sqlite3\n",
    "import pandas as pd\n",
    "conn = sqlite3.connect('owl.db')\n",
    "c = conn.cursor()\n",
    "\n",
    "#Creating a database from the CSVs\n",
    "# for i in range(1, 21):\n",
    "#     week.to_csv('Week' + str(i) + '.csv')\n",
    "\n",
    "x = pd.read_csv('week1.csv')\n",
    "x.head()\n",
    "y = x.iloc[:, 4:]"
   ]
  },
  {
   "cell_type": "code",
   "execution_count": 46,
   "metadata": {},
   "outputs": [],
   "source": [
    "y.to_sql('weekx', conn)"
   ]
  },
  {
   "cell_type": "code",
   "execution_count": 54,
   "metadata": {},
   "outputs": [],
   "source": [
    "y = y.set_index(x['Player'])\n",
    "y.to_sql('weekxy', conn)"
   ]
  },
  {
   "cell_type": "code",
   "execution_count": 57,
   "metadata": {},
   "outputs": [
    {
     "data": {
      "text/plain": [
       "[]"
      ]
     },
     "execution_count": 57,
     "metadata": {},
     "output_type": "execute_result"
    }
   ],
   "source": [
    "c.execute('SELECT * FROM player_info').fetchall()"
   ]
  }
 ],
 "metadata": {
  "kernelspec": {
   "display_name": "Python 3",
   "language": "python",
   "name": "python3"
  },
  "language_info": {
   "codemirror_mode": {
    "name": "ipython",
    "version": 3
   },
   "file_extension": ".py",
   "mimetype": "text/x-python",
   "name": "python",
   "nbconvert_exporter": "python",
   "pygments_lexer": "ipython3",
   "version": "3.6.4"
  }
 },
 "nbformat": 4,
 "nbformat_minor": 1
}
