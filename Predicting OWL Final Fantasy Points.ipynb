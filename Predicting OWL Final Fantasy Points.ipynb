{
 "cells": [
  {
   "cell_type": "markdown",
   "metadata": {},
   "source": [
    "My friends and I are avid OWL fans and participated in a fantasy league during season 1. Unfortunately, my drafted team wasn't the best as I mostly drafted from the heart and chose a bunch of SF Shock players. This season, I've decided to try using data analysis to try to get the edge up on my friends!"
   ]
  },
  {
   "cell_type": "code",
   "execution_count": 149,
   "metadata": {},
   "outputs": [],
   "source": [
    "from bs4 import BeautifulSoup\n",
    "import requests\n",
    "from codecs import open\n",
    "from re import sub\n",
    "import sqlite3 as sql\n",
    "import pandas as pd\n",
    "import pandas.io.sql as psql\n",
    "\n",
    "# cell indices of the following attributes\n",
    "NAME = 1\n",
    "ROLE = 2\n",
    "TEAM = 3\n",
    "KILLS = 4\n",
    "DEATHS = 5\n",
    "ULTS = 6\n",
    "FK = 7\n",
    "FD = 8\n",
    "RES = 9\n",
    "PTS = 10\n",
    "PTS10 = 11\n",
    "\n",
    "\n",
    "def clean(text):\n",
    "    # remove all HTML code and surrounding whitespace to get the clean attribute\n",
    "    try:\n",
    "        return re.sub('<.*?>', '', text).strip()\n",
    "    except:\n",
    "        return text.strip()\n",
    "\n",
    "class Player:\n",
    "    def __init__(self, info):\n",
    "        self.info = info\n",
    "        self.name = clean(self.info[NAME].text)\n",
    "        self.role = clean(self.info[ROLE].text)\n",
    "        self.team = clean(self.info[TEAM].text)\n",
    "        self.kills = clean(self.info[KILLS].text)\n",
    "        self.deaths = clean(self.info[DEATHS].text)\n",
    "        self.ults = clean(self.info[ULTS].text)\n",
    "        self.fk = clean(self.info[FK].text)\n",
    "        self.fd = clean(self.info[FD].text)\n",
    "        self.res = clean(self.info[RES].text)\n",
    "        self.pts = clean(self.info[PTS].text)\n",
    "        self.pts10 = clean(self.info[PTS10].text)\n",
    "\n",
    "        self.attrs = []\n",
    "        self.attrs.append(self.name)\n",
    "        self.attrs.append(self.role)\n",
    "        self.attrs.append(self.team)\n",
    "        self.attrs.append(self.kills)\n",
    "        self.attrs.append(self.deaths)\n",
    "        self.attrs.append(self.ults)\n",
    "        self.attrs.append(self.fk)\n",
    "        self.attrs.append(self.fd)\n",
    "        self.attrs.append(self.res)\n",
    "        self.attrs.append(self.pts)\n",
    "        self.attrs.append(self.pts10)"
   ]
  },
  {
   "cell_type": "code",
   "execution_count": 150,
   "metadata": {},
   "outputs": [],
   "source": [
    "# this function takes a URL and makes a dataframe out of it\n",
    "def create_week_dataframe(url):\n",
    "\n",
    "    content = requests.get(url).content\n",
    "    #page = open(url, 'r', 'utf-8')\n",
    "    soup = BeautifulSoup(content, 'html.parser')\n",
    "\n",
    "    # get the table headers\n",
    "    table_header = soup.find_all('th')\n",
    "    columns = ['Week']\n",
    "    for cell in table_header[1:]: # skip 0 because that just has the player picture\n",
    "        columns.append(clean(cell.text))\n",
    "\n",
    "    # loop through the rows within the table for each player\n",
    "    table = soup.find('tbody')\n",
    "    player_table = table.find_all('tr')\n",
    "    players = []\n",
    "    for row in player_table[0:]: # skip first row because there is no data there\n",
    "        person = row.find_all('td')\n",
    "        players.append(Player(person))\n",
    "\n",
    "    week_num = url.split('week=')[1]\n",
    "\n",
    "    # add the data into the dataframe table\n",
    "    df = pd.DataFrame(columns=columns)\n",
    "    for player in players:\n",
    "        df = df.append(pd.DataFrame(columns=columns, data=[[week_num] + player.attrs]))\n",
    "\n",
    "    df = df.set_index('Player')\n",
    "    \n",
    "    return df"
   ]
  },
  {
   "cell_type": "code",
   "execution_count": 151,
   "metadata": {},
   "outputs": [],
   "source": [
    "OWL_URL_BASE = \"https://www.winstonslab.com/fantasy/result.php?cID=22&league=2171&week=\"\n",
    "weekly_data = []\n",
    "for i in range(0, 20):\n",
    "    weekly_data.append(create_week_dataframe(OWL_URL_BASE + str(i + 1)))"
   ]
  },
  {
   "cell_type": "code",
   "execution_count": 152,
   "metadata": {
    "scrolled": true
   },
   "outputs": [],
   "source": [
    "# begin conversion into SQL databases\n",
    "import sqlite3\n",
    "conn = sqlite3.connect('owl.db')\n",
    "c = conn.cursor()"
   ]
  },
  {
   "cell_type": "code",
   "execution_count": 153,
   "metadata": {},
   "outputs": [],
   "source": [
    "i = 0\n",
    "for week in weekly_data:\n",
    "    i += 1\n",
    "    week[week.columns[3:]] = week[week.columns[3:]].apply(pd.to_numeric)\n",
    "    week['Week'] = week['Week'].apply(pd.to_numeric)\n",
    "    week.to_sql('week' + str(i), con=conn, if_exists='replace')"
   ]
  },
  {
   "cell_type": "markdown",
   "metadata": {},
   "source": [
    "Now I need to think of the things I want to explore.\n",
    "\n",
    "- Who are the best players?\n",
    "    - Which players tend to be within the top of their roles? Of all roles?\n",
    "- Which roles should I prioritize?\n",
    "    - Which roles have only have a few great players? I need to draft at least two people of each role, so this is important.\n",
    "- Which players seemed to improve as time went on? Which players got worse? Which were consistent?\n",
    "    - Some players might not have been top players in the beginning of the season but have improved enough to be worth early drafting. Others may have started off great but were subject to fatigue or suffered due to patch differences.\n",
    "- How much do teams influence the amount of points a player gets?\n",
    "    - Should I focus more are getting good individual players or on which teams I feel will be successful?\n",
    "    - If I find that teams are big indicators of individual performance, I may need to be pull in team win/loss data from another source.\n",
    "    \n",
    "Because the winner in the fantasy league is determined by who gets most point each week and **not** who gets most points cumulatively, I think it makes the most sense to look at the data longitudinally. I will categorize \"top\" players as those that are within the etop echelon for mosts weeks. The exact numbers will depend on my data exploration. \n",
    "\n",
    "Here are the steps I will take to determine my defintion of \"top\" players:\n",
    "\n",
    "1. Rank each player's performance per week\n",
    " * Per role\n",
    " * Overall\n",
    "2. Plot each's players ranks against the amount of points they got that week\n",
    "3. Observe whether there is a natural falloff point (i.e., a rank where the point difference between that and the next rank is noteable)"
   ]
  },
  {
   "cell_type": "code",
   "execution_count": null,
   "metadata": {},
   "outputs": [],
   "source": []
  }
 ],
 "metadata": {
  "kernelspec": {
   "display_name": "Python 3",
   "language": "python",
   "name": "python3"
  },
  "language_info": {
   "codemirror_mode": {
    "name": "ipython",
    "version": 3
   },
   "file_extension": ".py",
   "mimetype": "text/x-python",
   "name": "python",
   "nbconvert_exporter": "python",
   "pygments_lexer": "ipython3",
   "version": "3.6.4"
  }
 },
 "nbformat": 4,
 "nbformat_minor": 2
}
