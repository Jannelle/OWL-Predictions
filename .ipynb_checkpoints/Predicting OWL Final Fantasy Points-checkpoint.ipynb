{
 "cells": [
  {
   "cell_type": "markdown",
   "metadata": {},
   "source": [
    "My friends and I are avid OWL fans and participated in a fantasy league during season 1. Unfortunately, my drafted team wasn't the best as I mostly drafted from the heart and chose a bunch of SF Shock players. This season, I've decided to try using data analysis to try to get the edge up on my friends!\n",
    "\n",
    "The data has all been scraped using the Scrape_Data script. All data is from Winston's Lab."
   ]
  },
  {
   "cell_type": "markdown",
   "metadata": {},
   "source": [
    "Now I need to think of the things I want to explore.\n",
    "\n",
    "- Who are the best players?\n",
    "    - Which players tend to be within the top of their roles? Of all roles?\n",
    "- Which roles should I prioritize?\n",
    "    - Which roles have only have a few great players? I need to draft at least two people of each role, so this is important.\n",
    "- Which players seemed to improve as time went on? Which players got worse? Which were consistent?\n",
    "    - Some players might not have been top players in the beginning of the season but have improved enough to be worth early drafting. Others may have started off great but were subject to fatigue or suffered due to patch differences.\n",
    "- How much do teams influence the amount of points a player gets?\n",
    "    - Should I focus more are getting good individual players or on which teams I feel will be successful?\n",
    "    - If I find that teams are big indicators of individual performance, I may need to be pull in team win/loss data from another source.\n",
    "    \n",
    "Because the winner in the fantasy league is determined by who gets most point each week and **not** who gets most points cumulatively, I think it makes the most sense to look at the data longitudinally. I will categorize \"top\" players as those that are within the etop echelon for mosts weeks. The exact numbers will depend on my data exploration. \n",
    "\n",
    "Here are the steps I will take to determine my defintion of \"top\" players:\n",
    "\n",
    "1. Rank each player's performance per week\n",
    " * Per role\n",
    " * Overall\n",
    "2. Plot each's players ranks against the amount of points they got that week\n",
    "3. Observe whether there is a natural falloff point (i.e., a rank where the point difference between that and the next rank is noteable)"
   ]
  },
  {
   "cell_type": "markdown",
   "metadata": {},
   "source": [
    "*Note: While there is redundancy in my SQL tables, I have decided not to normalize my database because 1. SQLite does not have a convenient way to add foreign key constraints and because the data does not to be updated again so the redundancy should not pose an issue. If I decide to maintain this database (for example, if I want to add more data from later seasons) then I will create a better schema.*"
   ]
  },
  {
   "cell_type": "code",
   "execution_count": null,
   "metadata": {},
   "outputs": [],
   "source": []
  }
 ],
 "metadata": {
  "kernelspec": {
   "display_name": "Python 3",
   "language": "python",
   "name": "python3"
  },
  "language_info": {
   "codemirror_mode": {
    "name": "ipython",
    "version": 3
   },
   "file_extension": ".py",
   "mimetype": "text/x-python",
   "name": "python",
   "nbconvert_exporter": "python",
   "pygments_lexer": "ipython3",
   "version": "3.6.4"
  }
 },
 "nbformat": 4,
 "nbformat_minor": 2
}
